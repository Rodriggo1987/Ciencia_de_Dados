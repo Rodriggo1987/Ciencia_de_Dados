{
  "nbformat": 4,
  "nbformat_minor": 0,
  "metadata": {
    "colab": {
      "name": "Aula_NLTK.ipynb",
      "provenance": [],
      "mount_file_id": "1xMEpeLjtHGEkn0kgEeCZo6EUsQpopMRy",
      "authorship_tag": "ABX9TyO4GskIkF4YsH11ggP8ihwm",
      "include_colab_link": true
    },
    "kernelspec": {
      "name": "python3",
      "display_name": "Python 3"
    },
    "language_info": {
      "name": "python"
    }
  },
  "cells": [
    {
      "cell_type": "markdown",
      "metadata": {
        "id": "view-in-github",
        "colab_type": "text"
      },
      "source": [
        "<a href=\"https://colab.research.google.com/github/Rodriggo1987/Visualiza-odeDados/blob/master/Aula_NLTK.ipynb\" target=\"_parent\"><img src=\"https://colab.research.google.com/assets/colab-badge.svg\" alt=\"Open In Colab\"/></a>"
      ]
    },
    {
      "cell_type": "code",
      "metadata": {
        "id": "i_-YqHrN6V2b"
      },
      "source": [
        "import nltk\n",
        "\n"
      ],
      "execution_count": 2,
      "outputs": []
    },
    {
      "cell_type": "code",
      "metadata": {
        "id": "kXpj8KZF6Zgo"
      },
      "source": [
        "nltk.download()"
      ],
      "execution_count": null,
      "outputs": []
    },
    {
      "cell_type": "markdown",
      "metadata": {
        "id": "Up4LUWxzaCQ0"
      },
      "source": [
        "** mostras as funçoes dentro do mac_morpho**"
      ]
    },
    {
      "cell_type": "code",
      "metadata": {
        "colab": {
          "base_uri": "https://localhost:8080/"
        },
        "id": "eGfzo_0hYkd_",
        "outputId": "ede338b1-133c-432d-906a-1bccde76336b"
      },
      "source": [
        "dir(nltk.corpus.mac_morpho)"
      ],
      "execution_count": 12,
      "outputs": [
        {
          "output_type": "execute_result",
          "data": {
            "text/plain": [
              "['_LazyCorpusLoader__args',\n",
              " '_LazyCorpusLoader__kwargs',\n",
              " '_LazyCorpusLoader__load',\n",
              " '_LazyCorpusLoader__name',\n",
              " '_LazyCorpusLoader__reader_cls',\n",
              " '__class__',\n",
              " '__delattr__',\n",
              " '__dict__',\n",
              " '__dir__',\n",
              " '__doc__',\n",
              " '__eq__',\n",
              " '__format__',\n",
              " '__ge__',\n",
              " '__getattr__',\n",
              " '__getattribute__',\n",
              " '__gt__',\n",
              " '__hash__',\n",
              " '__init__',\n",
              " '__init_subclass__',\n",
              " '__le__',\n",
              " '__lt__',\n",
              " '__module__',\n",
              " '__name__',\n",
              " '__ne__',\n",
              " '__new__',\n",
              " '__reduce__',\n",
              " '__reduce_ex__',\n",
              " '__repr__',\n",
              " '__setattr__',\n",
              " '__sizeof__',\n",
              " '__str__',\n",
              " '__subclasshook__',\n",
              " '__unicode__',\n",
              " '__weakref__',\n",
              " '_unload',\n",
              " 'subdir',\n",
              " 'unicode_repr']"
            ]
          },
          "metadata": {},
          "execution_count": 12
        }
      ]
    },
    {
      "cell_type": "markdown",
      "metadata": {
        "id": "Y0YyL9SfaLnd"
      },
      "source": [
        "** CHAMAR A FUNÇÃO 'WORDS' DENTRO DO MAC_MORPHO, COM AS PALVRAS EM LISTA**"
      ]
    },
    {
      "cell_type": "code",
      "metadata": {
        "colab": {
          "base_uri": "https://localhost:8080/"
        },
        "id": "XUERvPnnZMwy",
        "outputId": "d0280a71-8429-421e-bc48-72dabf387dc9"
      },
      "source": [
        "nltk.corpus.mac_morpho.words()"
      ],
      "execution_count": 13,
      "outputs": [
        {
          "output_type": "execute_result",
          "data": {
            "text/plain": [
              "['Jersei', 'atinge', 'média', 'de', 'Cr$', '1,4', ...]"
            ]
          },
          "metadata": {},
          "execution_count": 13
        }
      ]
    },
    {
      "cell_type": "markdown",
      "metadata": {
        "id": "EIYOlmCPaVBl"
      },
      "source": [
        "** O 'LEN' VAI CONTAR TODAS AS PALAVRAS DENTRO DO MAC_MORPHO**"
      ]
    },
    {
      "cell_type": "code",
      "metadata": {
        "colab": {
          "base_uri": "https://localhost:8080/"
        },
        "id": "bbYmGFnpZcwr",
        "outputId": "22de70d6-3abe-4ea9-bfe1-17d3184f2f43"
      },
      "source": [
        "len(nltk.corpus.mac_morpho.words())"
      ],
      "execution_count": 14,
      "outputs": [
        {
          "output_type": "execute_result",
          "data": {
            "text/plain": [
              "1170095"
            ]
          },
          "metadata": {},
          "execution_count": 14
        }
      ]
    },
    {
      "cell_type": "markdown",
      "metadata": {
        "id": "P1pu-HHaaetd"
      },
      "source": [
        "**O COMANDO 'SENTS' VAI MOSTRAR TODAS AS SENTENÇAS. UMA LISTA DENTRO DE UMA LISTA**"
      ]
    },
    {
      "cell_type": "code",
      "metadata": {
        "colab": {
          "base_uri": "https://localhost:8080/"
        },
        "id": "9c7u257bZlev",
        "outputId": "4c7de59d-2736-45cb-f80a-6a896cd04d81"
      },
      "source": [
        "nltk.corpus.mac_morpho.sents()"
      ],
      "execution_count": 15,
      "outputs": [
        {
          "output_type": "execute_result",
          "data": {
            "text/plain": [
              "[['Jersei', 'atinge', 'média', 'de', 'Cr$', '1,4', 'milhão', 'em', 'a', 'venda', 'de', 'a', 'Pinhal', 'em', 'São', 'Paulo'], ['Programe', 'sua', 'viagem', 'a', 'a', 'Exposição', 'Nacional', 'do', 'Zebu', ',', 'que', 'começa', 'dia', '25'], ...]"
            ]
          },
          "metadata": {},
          "execution_count": 15
        }
      ]
    },
    {
      "cell_type": "markdown",
      "metadata": {
        "id": "CILaRDn4aqJX"
      },
      "source": [
        "**CHAMAR A PRIMEIRA SENTEÇA DENTRO DO MAC_MORPHO (POSIÇÃO ZERO [0])**"
      ]
    },
    {
      "cell_type": "code",
      "metadata": {
        "colab": {
          "base_uri": "https://localhost:8080/"
        },
        "id": "aeilfYm5apwZ",
        "outputId": "6cfc63c4-714f-4ff5-c46a-33680e12b343"
      },
      "source": [
        "nltk.corpus.mac_morpho.sents()[0]"
      ],
      "execution_count": 18,
      "outputs": [
        {
          "output_type": "execute_result",
          "data": {
            "text/plain": [
              "['Jersei',\n",
              " 'atinge',\n",
              " 'média',\n",
              " 'de',\n",
              " 'Cr$',\n",
              " '1,4',\n",
              " 'milhão',\n",
              " 'em',\n",
              " 'a',\n",
              " 'venda',\n",
              " 'de',\n",
              " 'a',\n",
              " 'Pinhal',\n",
              " 'em',\n",
              " 'São',\n",
              " 'Paulo']"
            ]
          },
          "metadata": {},
          "execution_count": 18
        }
      ]
    },
    {
      "cell_type": "markdown",
      "metadata": {
        "id": "XBpT18nzbaH0"
      },
      "source": [
        "**plavras etictadas** "
      ]
    },
    {
      "cell_type": "code",
      "metadata": {
        "colab": {
          "base_uri": "https://localhost:8080/"
        },
        "id": "XjDPitaTbaUV",
        "outputId": "42451ef5-93a2-4e00-b819-1488db227af2"
      },
      "source": [
        "nltk.corpus.mac_morpho.tagged_words()"
      ],
      "execution_count": 19,
      "outputs": [
        {
          "output_type": "execute_result",
          "data": {
            "text/plain": [
              "[('Jersei', 'N'), ('atinge', 'V'), ('média', 'N'), ...]"
            ]
          },
          "metadata": {},
          "execution_count": 19
        }
      ]
    },
    {
      "cell_type": "code",
      "metadata": {
        "colab": {
          "base_uri": "https://localhost:8080/"
        },
        "id": "JEEiITp-sgJD",
        "outputId": "b881886a-d20c-4242-fca4-280e827720db"
      },
      "source": [
        "nltk.word_tokenize(\"Assistir One Piece Episódio Episódio 157 Online, One Piece EP Episódio 157 Completo, Baixar One Piece Episodio Episódio 157, Assistir One Piece Episodio Episódio 157 Completo, Assistir One Piece ep Episódio 157 HD, Animes Online\")"
      ],
      "execution_count": 6,
      "outputs": [
        {
          "output_type": "execute_result",
          "data": {
            "text/plain": [
              "['Assistir',\n",
              " 'One',\n",
              " 'Piece',\n",
              " 'Episódio',\n",
              " 'Episódio',\n",
              " '157',\n",
              " 'Online',\n",
              " ',',\n",
              " 'One',\n",
              " 'Piece',\n",
              " 'EP',\n",
              " 'Episódio',\n",
              " '157',\n",
              " 'Completo',\n",
              " ',',\n",
              " 'Baixar',\n",
              " 'One',\n",
              " 'Piece',\n",
              " 'Episodio',\n",
              " 'Episódio',\n",
              " '157',\n",
              " ',',\n",
              " 'Assistir',\n",
              " 'One',\n",
              " 'Piece',\n",
              " 'Episodio',\n",
              " 'Episódio',\n",
              " '157',\n",
              " 'Completo',\n",
              " ',',\n",
              " 'Assistir',\n",
              " 'One',\n",
              " 'Piece',\n",
              " 'ep',\n",
              " 'Episódio',\n",
              " '157',\n",
              " 'HD',\n",
              " ',',\n",
              " 'Animes',\n",
              " 'Online']"
            ]
          },
          "metadata": {},
          "execution_count": 6
        }
      ]
    },
    {
      "cell_type": "markdown",
      "metadata": {
        "id": "Ya2T4l5RQyJu"
      },
      "source": [
        "**Remover pontos e vigulas**"
      ]
    },
    {
      "cell_type": "code",
      "metadata": {
        "colab": {
          "base_uri": "https://localhost:8080/"
        },
        "id": "ADLV4kUIwBiV",
        "outputId": "008e1491-2bb6-4c00-bfea-fa5ae944dd45"
      },
      "source": [
        "from nltk.tokenize import RegexpTokenizer\n",
        "texto = \"Assistir One Piece Episódio Episódio 157 Online, One Piece EP Episódio 157 Completo, Baixar One Piece Episodio Episódio 157, Assistir One Piece Episodio Episódio 157 Completo, Assistir One Piece ep Episódio 157 HD, Animes Online\"\n",
        "tokenizer = RegexpTokenizer(r'\\w+')\n",
        "tokens = tokenizer.tokenize(texto)\n",
        "print(tokens)"
      ],
      "execution_count": 10,
      "outputs": [
        {
          "output_type": "stream",
          "name": "stdout",
          "text": [
            "['Assistir', 'One', 'Piece', 'Episódio', 'Episódio', '157', 'Online', 'One', 'Piece', 'EP', 'Episódio', '157', 'Completo', 'Baixar', 'One', 'Piece', 'Episodio', 'Episódio', '157', 'Assistir', 'One', 'Piece', 'Episodio', 'Episódio', '157', 'Completo', 'Assistir', 'One', 'Piece', 'ep', 'Episódio', '157', 'HD', 'Animes', 'Online']\n"
          ]
        }
      ]
    },
    {
      "cell_type": "markdown",
      "metadata": {
        "id": "Ilv8_kPiRVdr"
      },
      "source": [
        "** Remove Todas as Palavras de a-z, minusculas e maiusculas **"
      ]
    },
    {
      "cell_type": "code",
      "metadata": {
        "id": "4rJudFznO10O"
      },
      "source": [
        "from nltk.tokenize import RegexpTokenizer\n",
        "texto = \"Assistir One Piece Episódio Episódio 157 Online, One Piece EP Episódio 157 Completo, Baixar One Piece Episodio Episódio 157, Assistir One Piece Episodio Episódio 157 Completo, Assistir One Piece ep Episódio 157 HD, Animes Online\"\n",
        "tokenizer = RegexpTokenizer(r'[a-zA-Z]\\w+')\n",
        "tokens = tokenizer.tokenize(texto)\n",
        "print(tokens)"
      ],
      "execution_count": null,
      "outputs": []
    },
    {
      "cell_type": "markdown",
      "metadata": {
        "id": "cet-jKbVUfDa"
      },
      "source": [
        "**Mosdtras as 10 palavras mais comuns no texto**"
      ]
    },
    {
      "cell_type": "code",
      "metadata": {
        "colab": {
          "base_uri": "https://localhost:8080/"
        },
        "id": "gpvu1GXQUfNf",
        "outputId": "51cf608e-b1b9-4352-e001-9b73ea0257b9"
      },
      "source": [
        "texto = \"Assistir One Piece Episódio Episódio 157 Online, One Piece EP Episódio 157 Completo, Baixar One Piece Episodio Episódio 157, Assistir One Piece Episodio Episódio 157 Completo, Assistir One Piece ep Episódio 157 HD, Animes Online\"\n",
        "token = nltk.word_tokenize(texto)\n",
        "frequencia = nltk.FreqDist(tokens)\n",
        "(frequencia.most_common(10))"
      ],
      "execution_count": 11,
      "outputs": [
        {
          "output_type": "execute_result",
          "data": {
            "text/plain": [
              "[('Episódio', 6),\n",
              " ('One', 5),\n",
              " ('Piece', 5),\n",
              " ('157', 5),\n",
              " ('Assistir', 3),\n",
              " ('Online', 2),\n",
              " ('Completo', 2),\n",
              " ('Episodio', 2),\n",
              " ('EP', 1),\n",
              " ('Baixar', 1)]"
            ]
          },
          "metadata": {},
          "execution_count": 11
        }
      ]
    },
    {
      "cell_type": "code",
      "metadata": {
        "colab": {
          "base_uri": "https://localhost:8080/"
        },
        "id": "1heTZ4bjcZXb",
        "outputId": "451269aa-b396-4765-ac53-72b025767d46"
      },
      "source": [
        "from nltk.tokenize import RegexpTokenizer\n",
        "texto = \"Assistir One Piece Episódio Episódio 157 Online, One Piece EP Episódio 157 Completo, Baixar One Piece Episodio Episódio 157, Assistir One Piece Episodio Episódio 157 Completo, Assistir One Piece ep Episódio 157 HD, Animes Online\"\n",
        "\n",
        "tokenizer = RegexpTokenizer(r'\\w+')\n",
        "tokens = tokenizer.tokenize(texto)\n",
        "frequencia = nltk.FreqDist(tokens)\n",
        "frequencia.most_common()"
      ],
      "execution_count": 12,
      "outputs": [
        {
          "output_type": "execute_result",
          "data": {
            "text/plain": [
              "[('Episódio', 6),\n",
              " ('One', 5),\n",
              " ('Piece', 5),\n",
              " ('157', 5),\n",
              " ('Assistir', 3),\n",
              " ('Online', 2),\n",
              " ('Completo', 2),\n",
              " ('Episodio', 2),\n",
              " ('EP', 1),\n",
              " ('Baixar', 1),\n",
              " ('ep', 1),\n",
              " ('HD', 1),\n",
              " ('Animes', 1)]"
            ]
          },
          "metadata": {},
          "execution_count": 12
        }
      ]
    }
  ]
}