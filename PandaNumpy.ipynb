{
  "nbformat": 4,
  "nbformat_minor": 0,
  "metadata": {
    "colab": {
      "name": "PandaNumpy.ipynb",
      "provenance": [],
      "authorship_tag": "ABX9TyNe14OtA9+w6x6AykhXlaoR",
      "include_colab_link": true
    },
    "kernelspec": {
      "name": "python3",
      "display_name": "Python 3"
    },
    "language_info": {
      "name": "python"
    }
  },
  "cells": [
    {
      "cell_type": "markdown",
      "metadata": {
        "id": "view-in-github",
        "colab_type": "text"
      },
      "source": [
        "<a href=\"https://colab.research.google.com/github/Rodriggo1987/Visualiza-odeDados/blob/master/PandaNumpy.ipynb\" target=\"_parent\"><img src=\"https://colab.research.google.com/assets/colab-badge.svg\" alt=\"Open In Colab\"/></a>"
      ]
    },
    {
      "cell_type": "code",
      "metadata": {
        "id": "KfDqyJOIDfKm"
      },
      "source": [
        "import pandas as pd\n",
        "import numpy as np\n"
      ],
      "execution_count": 1,
      "outputs": []
    },
    {
      "cell_type": "markdown",
      "metadata": {
        "id": "p70R0LH-E6Gx"
      },
      "source": [
        "**Criando um dicionario**"
      ]
    },
    {
      "cell_type": "code",
      "metadata": {
        "colab": {
          "base_uri": "https://localhost:8080/"
        },
        "id": "3zLzlpAoDxsd",
        "outputId": "7115ebe0-b6a3-4507-825e-cfd14dc530eb"
      },
      "source": [
        "cliente = { 'Nome': ['Marcelo', 'Ana', 'Maria'],\n",
        "            'Idade': [ 33, 26, 45],\n",
        "            'codigo': [123, 345, 567]}\n",
        "\n",
        "print (cliente, '\\n')\n"
      ],
      "execution_count": 2,
      "outputs": [
        {
          "output_type": "stream",
          "name": "stdout",
          "text": [
            "{'Nome': ['Marcelo', 'Ana', 'Maria'], 'Idade': [33, 26, 45], 'codigo': [123, 345, 567]} \n",
            "\n"
          ]
        }
      ]
    },
    {
      "cell_type": "markdown",
      "metadata": {
        "id": "7yIMY-ZYFHaA"
      },
      "source": [
        "**Criando um Data Frame**"
      ]
    },
    {
      "cell_type": "code",
      "metadata": {
        "colab": {
          "base_uri": "https://localhost:8080/"
        },
        "id": "dh-VOSU6FGTZ",
        "outputId": "b3dfb958-2ee4-4832-f0a2-9752037ac2d2"
      },
      "source": [
        "dataframe = pd.DataFrame(cliente)\n",
        "\n",
        "print(dataframe, '\\n\\n',)\n"
      ],
      "execution_count": 3,
      "outputs": [
        {
          "output_type": "stream",
          "name": "stdout",
          "text": [
            "      Nome  Idade  codigo\n",
            "0  Marcelo     33     123\n",
            "1      Ana     26     345\n",
            "2    Maria     45     567 \n",
            "\n",
            "\n"
          ]
        }
      ]
    },
    {
      "cell_type": "markdown",
      "metadata": {
        "id": "tr95UYotFn97"
      },
      "source": [
        "**cirando uma Series**"
      ]
    },
    {
      "cell_type": "code",
      "metadata": {
        "colab": {
          "base_uri": "https://localhost:8080/"
        },
        "id": "jb3oy9iIFn1v",
        "outputId": "182e0bc0-a99c-4e1b-8bf9-22807e7079a0"
      },
      "source": [
        "valor = pd.Series([10, 20, 30, 40, 50])\n",
        "print(valor, '\\n\\n')\n"
      ],
      "execution_count": 4,
      "outputs": [
        {
          "output_type": "stream",
          "name": "stdout",
          "text": [
            "0    10\n",
            "1    20\n",
            "2    30\n",
            "3    40\n",
            "4    50\n",
            "dtype: int64 \n",
            "\n",
            "\n"
          ]
        }
      ]
    },
    {
      "cell_type": "markdown",
      "metadata": {
        "id": "T3RiklgSF08q"
      },
      "source": [
        "**Criando Vetor**"
      ]
    },
    {
      "cell_type": "code",
      "metadata": {
        "colab": {
          "base_uri": "https://localhost:8080/"
        },
        "id": "UK0inG1hF1Gq",
        "outputId": "b0815b5c-a3a1-4f2b-f5f2-9970a778a14f"
      },
      "source": [
        "vetor= np.array([(5,7,8,9), (4,5,6,7)])\n",
        "vetor= np.array([5,7,8,9])\n",
        "print(vetor, '\\n\\n')\n",
        "\n",
        "vetors= pd.Series(vetor)\n",
        "print(vetors)\n"
      ],
      "execution_count": 5,
      "outputs": [
        {
          "output_type": "stream",
          "name": "stdout",
          "text": [
            "[5 7 8 9] \n",
            "\n",
            "\n",
            "0    5\n",
            "1    7\n",
            "2    8\n",
            "3    9\n",
            "dtype: int64\n"
          ]
        }
      ]
    },
    {
      "cell_type": "markdown",
      "metadata": {
        "id": "55Tn_7VzGRgM"
      },
      "source": [
        "**Visualização de Dados**"
      ]
    },
    {
      "cell_type": "code",
      "metadata": {
        "colab": {
          "base_uri": "https://localhost:8080/",
          "height": 728
        },
        "id": "0nGm7wYOGRra",
        "outputId": "667e7bf7-4603-4948-ea57-82e025166df6"
      },
      "source": [
        "import pandas as pd\n",
        "import matplotlib.pyplot as plt\n",
        "\n",
        "# Variavel Data recebe os dados\n",
        "Data = {'Ano': [1920, 1930, 1940, 1950, 1960, 1970, 1980, 1990, 2000, 2010],\n",
        "        'Taxa_Desemprego': [9.8, 12, 8, 7.2, 6.9, 7, 6.5, 6.2, 5.5, 6.3]\n",
        "        }\n",
        "\n",
        "#Criando um data frame\n",
        "#Comando 'Columns' mostrará as duas colunas ano e taxa de Desemprego, que recebera a variavel 'Data'\n",
        "df = pd.DataFrame(Data, columns=['Ano', 'Taxa_Desemprego'])\n",
        "#Plot faz parte da biblieoteca matplotlib que imprimirar as variavel x,y. Plotará um grafico do tipo 'line'. \n",
        "df.plot(x='Ano', y='Taxa_Desemprego', kind='line', figsize=(6,5))\n",
        "plt.show()\n",
        "\n",
        "#Imprimirá um grafico do tipo 'pie' (Pizza).  \n",
        "df.plot.pie(y='Taxa_Desemprego',figsize=(7, 7) )\n",
        "plt.show()\n",
        "\n"
      ],
      "execution_count": 18,
      "outputs": [
        {
          "output_type": "display_data",
          "data": {
            "image/png": "[encoded data removed]",
            "text/plain": [
              "<Figure size 432x360 with 1 Axes>"
            ]
          },
          "metadata": {
            "needs_background": "light"
          }
        },
        {
          "output_type": "display_data",
          "data": {
            "image/png": "[encoded data removed]",
            "text/plain": [
              "<Figure size 504x504 with 1 Axes>"
            ]
          },
          "metadata": {}
        }
      ]
    },
    {
      "cell_type": "markdown",
      "metadata": {
        "id": "E5RTevgRKNay"
      },
      "source": [
        "**Todas as Cores disponivel na bibliotecas**"
      ]
    },
    {
      "cell_type": "code",
      "metadata": {
        "colab": {
          "base_uri": "https://localhost:8080/"
        },
        "id": "_WxJ8QzyKI1m",
        "outputId": "112f7c68-50c1-4c79-b420-8e1c5b32d7cc"
      },
      "source": [
        "plt.style.available"
      ],
      "execution_count": 8,
      "outputs": [
        {
          "output_type": "execute_result",
          "data": {
            "text/plain": [
              "['Solarize_Light2',\n",
              " '_classic_test_patch',\n",
              " 'bmh',\n",
              " 'classic',\n",
              " 'dark_background',\n",
              " 'fast',\n",
              " 'fivethirtyeight',\n",
              " 'ggplot',\n",
              " 'grayscale',\n",
              " 'seaborn',\n",
              " 'seaborn-bright',\n",
              " 'seaborn-colorblind',\n",
              " 'seaborn-dark',\n",
              " 'seaborn-dark-palette',\n",
              " 'seaborn-darkgrid',\n",
              " 'seaborn-deep',\n",
              " 'seaborn-muted',\n",
              " 'seaborn-notebook',\n",
              " 'seaborn-paper',\n",
              " 'seaborn-pastel',\n",
              " 'seaborn-poster',\n",
              " 'seaborn-talk',\n",
              " 'seaborn-ticks',\n",
              " 'seaborn-white',\n",
              " 'seaborn-whitegrid',\n",
              " 'tableau-colorblind10']"
            ]
          },
          "metadata": {},
          "execution_count": 8
        }
      ]
    }
  ]
}