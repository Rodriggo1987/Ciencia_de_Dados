{
  "nbformat": 4,
  "nbformat_minor": 0,
  "metadata": {
    "colab": {
      "name": "lista.ipynb",
      "provenance": [],
      "authorship_tag": "ABX9TyMq651ySqdSdVCxnO0B4Fle",
      "include_colab_link": true
    },
    "kernelspec": {
      "name": "python3",
      "display_name": "Python 3"
    },
    "language_info": {
      "name": "python"
    }
  },
  "cells": [
    {
      "cell_type": "markdown",
      "metadata": {
        "id": "view-in-github",
        "colab_type": "text"
      },
      "source": [
        "<a href=\"https://colab.research.google.com/github/Rodriggo1987/Visualiza-odeDados/blob/master/lista.ipynb\" target=\"_parent\"><img src=\"https://colab.research.google.com/assets/colab-badge.svg\" alt=\"Open In Colab\"/></a>"
      ]
    },
    {
      "cell_type": "code",
      "metadata": {
        "id": "p4ZF6Tt3vs_y",
        "colab": {
          "base_uri": "https://localhost:8080/"
        },
        "outputId": "5e8f2a35-dd88-4a6b-ea28-2e682d9d7f9a"
      },
      "source": [
        "# declaranndo uma lista numérica\n",
        "minha_lista = [1, 2, 3, 4, 5]\n",
        "# imprimindo toda a lista\n",
        "print(minha_lista) #[1, 2, 3, 4, 5]\n",
        "# qual o tipo da variável?\n",
        "print(type(minha_lista)) #<class 'list'>\n",
        "# imprimindo item por item (usando o índice)\n",
        "print(minha_lista[0]) #1\n",
        "print(minha_lista[1]) #2\n",
        "print(minha_lista[2]) #3\n",
        "print(minha_lista[3]) #4\n",
        "print(minha_lista[4]) #5"
      ],
      "execution_count": null,
      "outputs": [
        {
          "output_type": "stream",
          "name": "stdout",
          "text": [
            "[1, 2, 3, 4, 5]\n",
            "<class 'list'>\n",
            "1\n",
            "2\n",
            "3\n",
            "4\n",
            "5\n"
          ]
        }
      ]
    }
  ]
}